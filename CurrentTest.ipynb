{
  "nbformat": 4,
  "nbformat_minor": 0,
  "metadata": {
    "colab": {
      "name": "CurrentTest.ipynb",
      "provenance": [],
      "collapsed_sections": [],
      "authorship_tag": "ABX9TyP+TVdiV6E61kDZZyAr9HUn",
      "include_colab_link": true
    },
    "kernelspec": {
      "name": "python3",
      "display_name": "Python 3"
    },
    "language_info": {
      "name": "python"
    }
  },
  "cells": [
    {
      "cell_type": "markdown",
      "metadata": {
        "id": "view-in-github",
        "colab_type": "text"
      },
      "source": [
        "<a href=\"https://colab.research.google.com/github/sgandyang/HyperIsland/blob/main/CurrentTest.ipynb\" target=\"_parent\"><img src=\"https://colab.research.google.com/assets/colab-badge.svg\" alt=\"Open In Colab\"/></a>"
      ]
    },
    {
      "cell_type": "code",
      "metadata": {
        "colab": {
          "base_uri": "https://localhost:8080/"
        },
        "id": "fLaKCXfTgdrL",
        "outputId": "45a7cfd0-eca7-4104-c99e-20ee81b7166f"
      },
      "source": [
        "pip install pytrends"
      ],
      "execution_count": 1,
      "outputs": [
        {
          "output_type": "stream",
          "name": "stdout",
          "text": [
            "Requirement already satisfied: pytrends in /usr/local/lib/python3.7/dist-packages (4.7.3)\n",
            "Requirement already satisfied: requests in /usr/local/lib/python3.7/dist-packages (from pytrends) (2.23.0)\n",
            "Requirement already satisfied: pandas>=0.25 in /usr/local/lib/python3.7/dist-packages (from pytrends) (1.1.5)\n",
            "Requirement already satisfied: lxml in /usr/local/lib/python3.7/dist-packages (from pytrends) (4.2.6)\n",
            "Requirement already satisfied: pytz>=2017.2 in /usr/local/lib/python3.7/dist-packages (from pandas>=0.25->pytrends) (2018.9)\n",
            "Requirement already satisfied: numpy>=1.15.4 in /usr/local/lib/python3.7/dist-packages (from pandas>=0.25->pytrends) (1.19.5)\n",
            "Requirement already satisfied: python-dateutil>=2.7.3 in /usr/local/lib/python3.7/dist-packages (from pandas>=0.25->pytrends) (2.8.2)\n",
            "Requirement already satisfied: six>=1.5 in /usr/local/lib/python3.7/dist-packages (from python-dateutil>=2.7.3->pandas>=0.25->pytrends) (1.15.0)\n",
            "Requirement already satisfied: certifi>=2017.4.17 in /usr/local/lib/python3.7/dist-packages (from requests->pytrends) (2021.5.30)\n",
            "Requirement already satisfied: chardet<4,>=3.0.2 in /usr/local/lib/python3.7/dist-packages (from requests->pytrends) (3.0.4)\n",
            "Requirement already satisfied: urllib3!=1.25.0,!=1.25.1,<1.26,>=1.21.1 in /usr/local/lib/python3.7/dist-packages (from requests->pytrends) (1.24.3)\n",
            "Requirement already satisfied: idna<3,>=2.5 in /usr/local/lib/python3.7/dist-packages (from requests->pytrends) (2.10)\n"
          ]
        }
      ]
    },
    {
      "cell_type": "code",
      "metadata": {
        "id": "s3QRf5oxgvlK"
      },
      "source": [
        "import pandas as pd                        \n",
        "from pytrends.request import TrendReq\n",
        "pytrends = TrendReq(hl='en-US', tz=360)"
      ],
      "execution_count": 2,
      "outputs": []
    },
    {
      "cell_type": "code",
      "metadata": {
        "id": "BHZ_Ya1EtoSd"
      },
      "source": [
        "kw_list = [\"printer\"]\n",
        "pytrends.build_payload(kw_list, cat=0, timeframe='today 3-m', geo='SG')"
      ],
      "execution_count": 3,
      "outputs": []
    },
    {
      "cell_type": "code",
      "metadata": {
        "id": "R_DJbdvqOgKh"
      },
      "source": [
        "from google.colab import data_table\n",
        "data_table.enable_dataframe_formatter()"
      ],
      "execution_count": 4,
      "outputs": []
    },
    {
      "cell_type": "code",
      "metadata": {
        "colab": {
          "base_uri": "https://localhost:8080/"
        },
        "id": "0YbkW4weuW8B",
        "outputId": "ab4273ae-5a0c-402c-824a-2773f02b6582"
      },
      "source": [
        "pytrends.related_topics()"
      ],
      "execution_count": 5,
      "outputs": [
        {
          "output_type": "execute_result",
          "data": {
            "text/plain": [
              "{'printer': {'rising':     value formattedValue  ...         topic_title             topic_type\n",
              "  0   50900       Breakout  ...          Challenger                  Topic\n",
              "  1   33800       Breakout  ...         3D modeling                  Topic\n",
              "  2   16750       Breakout  ...          Monochrome                  Topic\n",
              "  3     250          +250%  ...          User guide                  Topic\n",
              "  4     120          +120%  ...         3D printing                  Topic\n",
              "  5     120          +120%  ...             HP Envy                Printer\n",
              "  6     120          +120%  ...    Wireless Printer                  Topic\n",
              "  7     120          +120%  ...  Zebra Technologies  Manufacturing company\n",
              "  8      90           +90%  ...       Image scanner                  Topic\n",
              "  9      60           +60%  ...            Spooling                  Topic\n",
              "  10     60           +60%  ...             Brother                  Topic\n",
              "  11     40           +40%  ...       Device driver       Type of software\n",
              "  \n",
              "  [12 rows x 6 columns],\n",
              "  'top':     value formattedValue  ...              topic_title                 topic_type\n",
              "  0     100            100  ...                  Printer  Computer peripheral class\n",
              "  1      13             13  ...          Hewlett-Packard  Computer hardware company\n",
              "  2      11             11  ...          Hewlett-Packard                      Topic\n",
              "  3      11             11  ...       Brother Industries            Machine company\n",
              "  4      11             11  ...                  Brother                      Topic\n",
              "  5      10             10  ...                 Printing            Visual art form\n",
              "  6       9              9  ...                    Canon                Corporation\n",
              "  7       9              9  ...                    Canon                      Topic\n",
              "  8       9              9  ...              3D printing                      Topic\n",
              "  9       8              8  ...                      Ink                      Topic\n",
              "  10      8              8  ...  Three-dimensional space                      Topic\n",
              "  11      7              7  ...                    Laser                      Topic\n",
              "  12      7              7  ...            Device driver           Type of software\n",
              "  13      7              7  ...                  Brother                      Topic\n",
              "  14      7              7  ...           Laser printing                      Topic\n",
              "  15      6              6  ...                    Epson        Electronics company\n",
              "  16      6              6  ...            Label printer                      Topic\n",
              "  17      6              6  ...           Printer driver                      Topic\n",
              "  18      5              5  ...            Ink cartridge                      Topic\n",
              "  19      5              5  ...                    Label                      Topic\n",
              "  20      4              4  ...            Image scanner                      Topic\n",
              "  21      4              4  ...            Laser Printer                      Topic\n",
              "  22      3              3  ...            Photo printer  Computer peripheral class\n",
              "  23      3              3  ...          Inkjet printing  Computer peripheral class\n",
              "  \n",
              "  [24 rows x 7 columns]}}"
            ]
          },
          "metadata": {},
          "execution_count": 5
        }
      ]
    },
    {
      "cell_type": "code",
      "metadata": {
        "colab": {
          "base_uri": "https://localhost:8080/"
        },
        "id": "4x0Q96F0ua7w",
        "outputId": "1f7980df-52b2-4aec-f563-47fefc1052ec"
      },
      "source": [
        "pytrends.related_queries()"
      ],
      "execution_count": 6,
      "outputs": [
        {
          "output_type": "execute_result",
          "data": {
            "text/plain": [
              "{'printer': {'rising': None, 'top':              query  value\n",
              "  0    canon printer    100\n",
              "  1  brother printer     79}}"
            ]
          },
          "metadata": {},
          "execution_count": 6
        }
      ]
    },
    {
      "cell_type": "code",
      "metadata": {
        "colab": {
          "base_uri": "https://localhost:8080/",
          "height": 519
        },
        "id": "buM2g1s5uf2i",
        "outputId": "c7753c5d-c0b5-4306-ee03-314036c8fb6a"
      },
      "source": [
        "pytrends.trending_searches(pn='singapore')\n"
      ],
      "execution_count": 7,
      "outputs": [
        {
          "output_type": "execute_result",
          "data": {
            "application/vnd.google.colaboratory.module+javascript": "\n      import \"https://ssl.gstatic.com/colaboratory/data_table/a6224c040fa35dcf/data_table.js\";\n\n      window.createDataTable({\n        data: [[{\n            'v': 0,\n            'f': \"0\",\n        },\n\"Brighton vs Man City\"],\n [{\n            'v': 1,\n            'f': \"1\",\n        },\n\"Singapore travel restrictions\"],\n [{\n            'v': 2,\n            'f': \"2\",\n        },\n\"Karwa Chauth 2021\"],\n [{\n            'v': 3,\n            'f': \"3\",\n        },\n\"Meadow Walker\"],\n [{\n            'v': 4,\n            'f': \"4\",\n        },\n\"Chelsea vs Norwich City\"],\n [{\n            'v': 5,\n            'f': \"5\",\n        },\n\"Arsenal vs Aston Villa\"],\n [{\n            'v': 6,\n            'f': \"6\",\n        },\n\"West Indies vs England\"],\n [{\n            'v': 7,\n            'f': \"7\",\n        },\n\"F1\"],\n [{\n            'v': 8,\n            'f': \"8\",\n        },\n\"EPL results\"],\n [{\n            'v': 9,\n            'f': \"9\",\n        },\n\"Lakers\"],\n [{\n            'v': 10,\n            'f': \"10\",\n        },\n\"Sinovac Singapore\"],\n [{\n            'v': 11,\n            'f': \"11\",\n        },\n\"Everton vs Watford\"],\n [{\n            'v': 12,\n            'f': \"12\",\n        },\n\"Sa vs Aus\"],\n [{\n            'v': 13,\n            'f': \"13\",\n        },\n\"Crystal Palace vs Newcastle\"],\n [{\n            'v': 14,\n            'f': \"14\",\n        },\n\"India vs Pakistan\"],\n [{\n            'v': 15,\n            'f': \"15\",\n        },\n\"Bayern Munich\"],\n [{\n            'v': 16,\n            'f': \"16\",\n        },\n\"Man United vs Liverpool\"],\n [{\n            'v': 17,\n            'f': \"17\",\n        },\n\"IND) vs Pak\"],\n [{\n            'v': 18,\n            'f': \"18\",\n        },\n\"Alec Baldwin\"],\n [{\n            'v': 19,\n            'f': \"19\",\n        },\n\"Planet 999\"]],\n        columns: [[\"number\", \"index\"], [\"string\", \"0\"]],\n        columnOptions: [{\"width\": \"1px\", \"className\": \"index_column\"}],\n        rowsPerPage: 25,\n        helpUrl: \"https://colab.research.google.com/notebooks/data_table.ipynb\",\n        suppressOutputScrolling: true,\n        minimumWidth: undefined,\n      });\n    ",
            "text/html": [
              "<div>\n",
              "<style scoped>\n",
              "    .dataframe tbody tr th:only-of-type {\n",
              "        vertical-align: middle;\n",
              "    }\n",
              "\n",
              "    .dataframe tbody tr th {\n",
              "        vertical-align: top;\n",
              "    }\n",
              "\n",
              "    .dataframe thead th {\n",
              "        text-align: right;\n",
              "    }\n",
              "</style>\n",
              "<table border=\"1\" class=\"dataframe\">\n",
              "  <thead>\n",
              "    <tr style=\"text-align: right;\">\n",
              "      <th></th>\n",
              "      <th>0</th>\n",
              "    </tr>\n",
              "  </thead>\n",
              "  <tbody>\n",
              "    <tr>\n",
              "      <th>0</th>\n",
              "      <td>Brighton vs Man City</td>\n",
              "    </tr>\n",
              "    <tr>\n",
              "      <th>1</th>\n",
              "      <td>Singapore travel restrictions</td>\n",
              "    </tr>\n",
              "    <tr>\n",
              "      <th>2</th>\n",
              "      <td>Karwa Chauth 2021</td>\n",
              "    </tr>\n",
              "    <tr>\n",
              "      <th>3</th>\n",
              "      <td>Meadow Walker</td>\n",
              "    </tr>\n",
              "    <tr>\n",
              "      <th>4</th>\n",
              "      <td>Chelsea vs Norwich City</td>\n",
              "    </tr>\n",
              "    <tr>\n",
              "      <th>5</th>\n",
              "      <td>Arsenal vs Aston Villa</td>\n",
              "    </tr>\n",
              "    <tr>\n",
              "      <th>6</th>\n",
              "      <td>West Indies vs England</td>\n",
              "    </tr>\n",
              "    <tr>\n",
              "      <th>7</th>\n",
              "      <td>F1</td>\n",
              "    </tr>\n",
              "    <tr>\n",
              "      <th>8</th>\n",
              "      <td>EPL results</td>\n",
              "    </tr>\n",
              "    <tr>\n",
              "      <th>9</th>\n",
              "      <td>Lakers</td>\n",
              "    </tr>\n",
              "    <tr>\n",
              "      <th>10</th>\n",
              "      <td>Sinovac Singapore</td>\n",
              "    </tr>\n",
              "    <tr>\n",
              "      <th>11</th>\n",
              "      <td>Everton vs Watford</td>\n",
              "    </tr>\n",
              "    <tr>\n",
              "      <th>12</th>\n",
              "      <td>Sa vs Aus</td>\n",
              "    </tr>\n",
              "    <tr>\n",
              "      <th>13</th>\n",
              "      <td>Crystal Palace vs Newcastle</td>\n",
              "    </tr>\n",
              "    <tr>\n",
              "      <th>14</th>\n",
              "      <td>India vs Pakistan</td>\n",
              "    </tr>\n",
              "    <tr>\n",
              "      <th>15</th>\n",
              "      <td>Bayern Munich</td>\n",
              "    </tr>\n",
              "    <tr>\n",
              "      <th>16</th>\n",
              "      <td>Man United vs Liverpool</td>\n",
              "    </tr>\n",
              "    <tr>\n",
              "      <th>17</th>\n",
              "      <td>IND) vs Pak</td>\n",
              "    </tr>\n",
              "    <tr>\n",
              "      <th>18</th>\n",
              "      <td>Alec Baldwin</td>\n",
              "    </tr>\n",
              "    <tr>\n",
              "      <th>19</th>\n",
              "      <td>Planet 999</td>\n",
              "    </tr>\n",
              "  </tbody>\n",
              "</table>\n",
              "</div>"
            ],
            "text/plain": [
              "                                0\n",
              "0            Brighton vs Man City\n",
              "1   Singapore travel restrictions\n",
              "2               Karwa Chauth 2021\n",
              "3                   Meadow Walker\n",
              "4         Chelsea vs Norwich City\n",
              "5          Arsenal vs Aston Villa\n",
              "6          West Indies vs England\n",
              "7                              F1\n",
              "8                     EPL results\n",
              "9                          Lakers\n",
              "10              Sinovac Singapore\n",
              "11             Everton vs Watford\n",
              "12                      Sa vs Aus\n",
              "13    Crystal Palace vs Newcastle\n",
              "14              India vs Pakistan\n",
              "15                  Bayern Munich\n",
              "16        Man United vs Liverpool\n",
              "17                    IND) vs Pak\n",
              "18                   Alec Baldwin\n",
              "19                     Planet 999"
            ]
          },
          "metadata": {},
          "execution_count": 7
        }
      ]
    },
    {
      "cell_type": "code",
      "metadata": {
        "colab": {
          "base_uri": "https://localhost:8080/",
          "height": 519
        },
        "id": "cKMCGj76wjVr",
        "outputId": "b5739bdd-c59d-4ed0-c774-9b920eaab1c1"
      },
      "source": [
        "pytrends.trending_searches(pn='malaysia')"
      ],
      "execution_count": 8,
      "outputs": [
        {
          "output_type": "execute_result",
          "data": {
            "application/vnd.google.colaboratory.module+javascript": "\n      import \"https://ssl.gstatic.com/colaboratory/data_table/a6224c040fa35dcf/data_table.js\";\n\n      window.createDataTable({\n        data: [[{\n            'v': 0,\n            'f': \"0\",\n        },\n\"Mamat Khalid\"],\n [{\n            'v': 1,\n            'f': \"1\",\n        },\n\"Brighton vs Man City\"],\n [{\n            'v': 2,\n            'f': \"2\",\n        },\n\"Bologna vs Milan\"],\n [{\n            'v': 3,\n            'f': \"3\",\n        },\n\"Sri Lanka vs Bangladesh\"],\n [{\n            'v': 4,\n            'f': \"4\",\n        },\n\"Chelsea vs Norwich City\"],\n [{\n            'v': 5,\n            'f': \"5\",\n        },\n\"Paul Walker\"],\n [{\n            'v': 6,\n            'f': \"6\",\n        },\n\"Arsenal vs Aston Villa\"],\n [{\n            'v': 7,\n            'f': \"7\",\n        },\n\"West Indies vs England\"],\n [{\n            'v': 8,\n            'f': \"8\",\n        },\n\"South Africa vs Australia\"],\n [{\n            'v': 9,\n            'f': \"9\",\n        },\n\"Everton vs Watford\"],\n [{\n            'v': 10,\n            'f': \"10\",\n        },\n\"F1\"],\n [{\n            'v': 11,\n            'f': \"11\",\n        },\n\"Barcelona\"],\n [{\n            'v': 12,\n            'f': \"12\",\n        },\n\"Bayern vs Hoffenheim\"],\n [{\n            'v': 13,\n            'f': \"13\",\n        },\n\"Lakers vs Suns\"],\n [{\n            'v': 14,\n            'f': \"14\",\n        },\n\"Crystal Palace vs Newcastle\"],\n [{\n            'v': 15,\n            'f': \"15\",\n        },\n\"EPL results\"],\n [{\n            'v': 16,\n            'f': \"16\",\n        },\n\"India vs Pakistan\"],\n [{\n            'v': 17,\n            'f': \"17\",\n        },\n\"Jirisan\"],\n [{\n            'v': 18,\n            'f': \"18\",\n        },\n\"Nur Izzuddin\"],\n [{\n            'v': 19,\n            'f': \"19\",\n        },\n\"Leeds United vs Wolves\"]],\n        columns: [[\"number\", \"index\"], [\"string\", \"0\"]],\n        columnOptions: [{\"width\": \"1px\", \"className\": \"index_column\"}],\n        rowsPerPage: 25,\n        helpUrl: \"https://colab.research.google.com/notebooks/data_table.ipynb\",\n        suppressOutputScrolling: true,\n        minimumWidth: undefined,\n      });\n    ",
            "text/html": [
              "<div>\n",
              "<style scoped>\n",
              "    .dataframe tbody tr th:only-of-type {\n",
              "        vertical-align: middle;\n",
              "    }\n",
              "\n",
              "    .dataframe tbody tr th {\n",
              "        vertical-align: top;\n",
              "    }\n",
              "\n",
              "    .dataframe thead th {\n",
              "        text-align: right;\n",
              "    }\n",
              "</style>\n",
              "<table border=\"1\" class=\"dataframe\">\n",
              "  <thead>\n",
              "    <tr style=\"text-align: right;\">\n",
              "      <th></th>\n",
              "      <th>0</th>\n",
              "    </tr>\n",
              "  </thead>\n",
              "  <tbody>\n",
              "    <tr>\n",
              "      <th>0</th>\n",
              "      <td>Mamat Khalid</td>\n",
              "    </tr>\n",
              "    <tr>\n",
              "      <th>1</th>\n",
              "      <td>Brighton vs Man City</td>\n",
              "    </tr>\n",
              "    <tr>\n",
              "      <th>2</th>\n",
              "      <td>Bologna vs Milan</td>\n",
              "    </tr>\n",
              "    <tr>\n",
              "      <th>3</th>\n",
              "      <td>Sri Lanka vs Bangladesh</td>\n",
              "    </tr>\n",
              "    <tr>\n",
              "      <th>4</th>\n",
              "      <td>Chelsea vs Norwich City</td>\n",
              "    </tr>\n",
              "    <tr>\n",
              "      <th>5</th>\n",
              "      <td>Paul Walker</td>\n",
              "    </tr>\n",
              "    <tr>\n",
              "      <th>6</th>\n",
              "      <td>Arsenal vs Aston Villa</td>\n",
              "    </tr>\n",
              "    <tr>\n",
              "      <th>7</th>\n",
              "      <td>West Indies vs England</td>\n",
              "    </tr>\n",
              "    <tr>\n",
              "      <th>8</th>\n",
              "      <td>South Africa vs Australia</td>\n",
              "    </tr>\n",
              "    <tr>\n",
              "      <th>9</th>\n",
              "      <td>Everton vs Watford</td>\n",
              "    </tr>\n",
              "    <tr>\n",
              "      <th>10</th>\n",
              "      <td>F1</td>\n",
              "    </tr>\n",
              "    <tr>\n",
              "      <th>11</th>\n",
              "      <td>Barcelona</td>\n",
              "    </tr>\n",
              "    <tr>\n",
              "      <th>12</th>\n",
              "      <td>Bayern vs Hoffenheim</td>\n",
              "    </tr>\n",
              "    <tr>\n",
              "      <th>13</th>\n",
              "      <td>Lakers vs Suns</td>\n",
              "    </tr>\n",
              "    <tr>\n",
              "      <th>14</th>\n",
              "      <td>Crystal Palace vs Newcastle</td>\n",
              "    </tr>\n",
              "    <tr>\n",
              "      <th>15</th>\n",
              "      <td>EPL results</td>\n",
              "    </tr>\n",
              "    <tr>\n",
              "      <th>16</th>\n",
              "      <td>India vs Pakistan</td>\n",
              "    </tr>\n",
              "    <tr>\n",
              "      <th>17</th>\n",
              "      <td>Jirisan</td>\n",
              "    </tr>\n",
              "    <tr>\n",
              "      <th>18</th>\n",
              "      <td>Nur Izzuddin</td>\n",
              "    </tr>\n",
              "    <tr>\n",
              "      <th>19</th>\n",
              "      <td>Leeds United vs Wolves</td>\n",
              "    </tr>\n",
              "  </tbody>\n",
              "</table>\n",
              "</div>"
            ],
            "text/plain": [
              "                              0\n",
              "0                  Mamat Khalid\n",
              "1          Brighton vs Man City\n",
              "2              Bologna vs Milan\n",
              "3       Sri Lanka vs Bangladesh\n",
              "4       Chelsea vs Norwich City\n",
              "5                   Paul Walker\n",
              "6        Arsenal vs Aston Villa\n",
              "7        West Indies vs England\n",
              "8     South Africa vs Australia\n",
              "9            Everton vs Watford\n",
              "10                           F1\n",
              "11                    Barcelona\n",
              "12         Bayern vs Hoffenheim\n",
              "13               Lakers vs Suns\n",
              "14  Crystal Palace vs Newcastle\n",
              "15                  EPL results\n",
              "16            India vs Pakistan\n",
              "17                      Jirisan\n",
              "18                 Nur Izzuddin\n",
              "19       Leeds United vs Wolves"
            ]
          },
          "metadata": {},
          "execution_count": 8
        }
      ]
    },
    {
      "cell_type": "code",
      "metadata": {
        "colab": {
          "base_uri": "https://localhost:8080/"
        },
        "id": "RdmmRO5aQTUm",
        "outputId": "f32ba8b6-53ad-4d00-d672-42821eff13bd"
      },
      "source": [
        "!pip install nbconvert"
      ],
      "execution_count": 10,
      "outputs": [
        {
          "output_type": "stream",
          "name": "stdout",
          "text": [
            "Requirement already satisfied: nbconvert in /usr/local/lib/python3.7/dist-packages (5.6.1)\n",
            "Requirement already satisfied: nbformat>=4.4 in /usr/local/lib/python3.7/dist-packages (from nbconvert) (5.1.3)\n",
            "Requirement already satisfied: testpath in /usr/local/lib/python3.7/dist-packages (from nbconvert) (0.5.0)\n",
            "Requirement already satisfied: entrypoints>=0.2.2 in /usr/local/lib/python3.7/dist-packages (from nbconvert) (0.3)\n",
            "Requirement already satisfied: defusedxml in /usr/local/lib/python3.7/dist-packages (from nbconvert) (0.7.1)\n",
            "Requirement already satisfied: pandocfilters>=1.4.1 in /usr/local/lib/python3.7/dist-packages (from nbconvert) (1.5.0)\n",
            "Requirement already satisfied: mistune<2,>=0.8.1 in /usr/local/lib/python3.7/dist-packages (from nbconvert) (0.8.4)\n",
            "Requirement already satisfied: traitlets>=4.2 in /usr/local/lib/python3.7/dist-packages (from nbconvert) (5.1.0)\n",
            "Requirement already satisfied: bleach in /usr/local/lib/python3.7/dist-packages (from nbconvert) (4.1.0)\n",
            "Requirement already satisfied: pygments in /usr/local/lib/python3.7/dist-packages (from nbconvert) (2.6.1)\n",
            "Requirement already satisfied: jupyter-core in /usr/local/lib/python3.7/dist-packages (from nbconvert) (4.8.1)\n",
            "Requirement already satisfied: jinja2>=2.4 in /usr/local/lib/python3.7/dist-packages (from nbconvert) (2.11.3)\n",
            "Requirement already satisfied: MarkupSafe>=0.23 in /usr/local/lib/python3.7/dist-packages (from jinja2>=2.4->nbconvert) (2.0.1)\n",
            "Requirement already satisfied: jsonschema!=2.5.0,>=2.4 in /usr/local/lib/python3.7/dist-packages (from nbformat>=4.4->nbconvert) (2.6.0)\n",
            "Requirement already satisfied: ipython-genutils in /usr/local/lib/python3.7/dist-packages (from nbformat>=4.4->nbconvert) (0.2.0)\n",
            "Requirement already satisfied: six>=1.9.0 in /usr/local/lib/python3.7/dist-packages (from bleach->nbconvert) (1.15.0)\n",
            "Requirement already satisfied: packaging in /usr/local/lib/python3.7/dist-packages (from bleach->nbconvert) (21.0)\n",
            "Requirement already satisfied: webencodings in /usr/local/lib/python3.7/dist-packages (from bleach->nbconvert) (0.5.1)\n",
            "Requirement already satisfied: pyparsing>=2.0.2 in /usr/local/lib/python3.7/dist-packages (from packaging->bleach->nbconvert) (2.4.7)\n"
          ]
        }
      ]
    },
    {
      "cell_type": "code",
      "metadata": {
        "colab": {
          "base_uri": "https://localhost:8080/"
        },
        "id": "ZY1CKwxYQchn",
        "outputId": "5fb9817f-f07d-4f05-e894-d584990d8441"
      },
      "source": [
        "!jupyter nbconvert --to html CurrentTest.ipynb"
      ],
      "execution_count": 12,
      "outputs": [
        {
          "output_type": "stream",
          "name": "stdout",
          "text": [
            "[NbConvertApp] WARNING | pattern u'CurrentTest.ipynb' matched no files\n",
            "This application is used to convert notebook files (*.ipynb) to various other\n",
            "formats.\n",
            "\n",
            "WARNING: THE COMMANDLINE INTERFACE MAY CHANGE IN FUTURE RELEASES.\n",
            "\n",
            "Options\n",
            "-------\n",
            "\n",
            "Arguments that take values are actually convenience aliases to full\n",
            "Configurables, whose aliases are listed on the help line. For more information\n",
            "on full configurables, see '--help-all'.\n",
            "\n",
            "--execute\n",
            "    Execute the notebook prior to export.\n",
            "--allow-errors\n",
            "    Continue notebook execution even if one of the cells throws an error and include the error message in the cell output (the default behaviour is to abort conversion). This flag is only relevant if '--execute' was specified, too.\n",
            "--no-input\n",
            "    Exclude input cells and output prompts from converted document. \n",
            "    This mode is ideal for generating code-free reports.\n",
            "--stdout\n",
            "    Write notebook output to stdout instead of files.\n",
            "--stdin\n",
            "    read a single notebook file from stdin. Write the resulting notebook with default basename 'notebook.*'\n",
            "--inplace\n",
            "    Run nbconvert in place, overwriting the existing notebook (only \n",
            "    relevant when converting to notebook format)\n",
            "-y\n",
            "    Answer yes to any questions instead of prompting.\n",
            "--clear-output\n",
            "    Clear output of current file and save in place, \n",
            "    overwriting the existing notebook.\n",
            "--debug\n",
            "    set log level to logging.DEBUG (maximize logging output)\n",
            "--no-prompt\n",
            "    Exclude input and output prompts from converted document.\n",
            "--generate-config\n",
            "    generate default config file\n",
            "--nbformat=<Enum> (NotebookExporter.nbformat_version)\n",
            "    Default: 4\n",
            "    Choices: [1, 2, 3, 4]\n",
            "    The nbformat version to write. Use this to downgrade notebooks.\n",
            "--output-dir=<Unicode> (FilesWriter.build_directory)\n",
            "    Default: ''\n",
            "    Directory to write output(s) to. Defaults to output to the directory of each\n",
            "    notebook. To recover previous default behaviour (outputting to the current\n",
            "    working directory) use . as the flag value.\n",
            "--writer=<DottedObjectName> (NbConvertApp.writer_class)\n",
            "    Default: 'FilesWriter'\n",
            "    Writer class used to write the  results of the conversion\n",
            "--log-level=<Enum> (Application.log_level)\n",
            "    Default: 30\n",
            "    Choices: (0, 10, 20, 30, 40, 50, 'DEBUG', 'INFO', 'WARN', 'ERROR', 'CRITICAL')\n",
            "    Set the log level by value or name.\n",
            "--reveal-prefix=<Unicode> (SlidesExporter.reveal_url_prefix)\n",
            "    Default: u''\n",
            "    The URL prefix for reveal.js (version 3.x). This defaults to the reveal CDN,\n",
            "    but can be any url pointing to a copy  of reveal.js.\n",
            "    For speaker notes to work, this must be a relative path to a local  copy of\n",
            "    reveal.js: e.g., \"reveal.js\".\n",
            "    If a relative path is given, it must be a subdirectory of the current\n",
            "    directory (from which the server is run).\n",
            "    See the usage documentation\n",
            "    (https://nbconvert.readthedocs.io/en/latest/usage.html#reveal-js-html-\n",
            "    slideshow) for more details.\n",
            "--to=<Unicode> (NbConvertApp.export_format)\n",
            "    Default: 'html'\n",
            "    The export format to be used, either one of the built-in formats\n",
            "    ['asciidoc', 'custom', 'html', 'latex', 'markdown', 'notebook', 'pdf',\n",
            "    'python', 'rst', 'script', 'slides'] or a dotted object name that represents\n",
            "    the import path for an `Exporter` class\n",
            "--template=<Unicode> (TemplateExporter.template_file)\n",
            "    Default: u''\n",
            "    Name of the template file to use\n",
            "--output=<Unicode> (NbConvertApp.output_base)\n",
            "    Default: ''\n",
            "    overwrite base name use for output files. can only be used when converting\n",
            "    one notebook at a time.\n",
            "--post=<DottedOrNone> (NbConvertApp.postprocessor_class)\n",
            "    Default: u''\n",
            "    PostProcessor class used to write the results of the conversion\n",
            "--config=<Unicode> (JupyterApp.config_file)\n",
            "    Default: u''\n",
            "    Full path of a config file.\n",
            "\n",
            "To see all available configurables, use `--help-all`\n",
            "\n",
            "Examples\n",
            "--------\n",
            "\n",
            "    The simplest way to use nbconvert is\n",
            "    \n",
            "    > jupyter nbconvert mynotebook.ipynb\n",
            "    \n",
            "    which will convert mynotebook.ipynb to the default format (probably HTML).\n",
            "    \n",
            "    You can specify the export format with `--to`.\n",
            "    Options include ['asciidoc', 'custom', 'html', 'latex', 'markdown', 'notebook', 'pdf', 'python', 'rst', 'script', 'slides'].\n",
            "    \n",
            "    > jupyter nbconvert --to latex mynotebook.ipynb\n",
            "    \n",
            "    Both HTML and LaTeX support multiple output templates. LaTeX includes\n",
            "    'base', 'article' and 'report'.  HTML includes 'basic' and 'full'. You\n",
            "    can specify the flavor of the format used.\n",
            "    \n",
            "    > jupyter nbconvert --to html --template basic mynotebook.ipynb\n",
            "    \n",
            "    You can also pipe the output to stdout, rather than a file\n",
            "    \n",
            "    > jupyter nbconvert mynotebook.ipynb --stdout\n",
            "    \n",
            "    PDF is generated via latex\n",
            "    \n",
            "    > jupyter nbconvert mynotebook.ipynb --to pdf\n",
            "    \n",
            "    You can get (and serve) a Reveal.js-powered slideshow\n",
            "    \n",
            "    > jupyter nbconvert myslides.ipynb --to slides --post serve\n",
            "    \n",
            "    Multiple notebooks can be given at the command line in a couple of \n",
            "    different ways:\n",
            "    \n",
            "    > jupyter nbconvert notebook*.ipynb\n",
            "    > jupyter nbconvert notebook1.ipynb notebook2.ipynb\n",
            "    \n",
            "    or you can specify the notebooks list in a config file, containing::\n",
            "    \n",
            "        c.NbConvertApp.notebooks = [\"my_notebook.ipynb\"]\n",
            "    \n",
            "    > jupyter nbconvert --config mycfg.py\n",
            "\n"
          ]
        }
      ]
    }
  ]
}