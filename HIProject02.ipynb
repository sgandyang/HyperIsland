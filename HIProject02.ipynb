{
  "nbformat": 4,
  "nbformat_minor": 0,
  "metadata": {
    "colab": {
      "name": "HIProject02.ipynb",
      "provenance": [],
      "collapsed_sections": [],
      "authorship_tag": "ABX9TyMKnRIF8nzThM2Vu0JGx3nN",
      "include_colab_link": true
    },
    "kernelspec": {
      "name": "python3",
      "display_name": "Python 3"
    },
    "language_info": {
      "name": "python"
    }
  },
  "cells": [
    {
      "cell_type": "markdown",
      "metadata": {
        "id": "view-in-github",
        "colab_type": "text"
      },
      "source": [
        "<a href=\"https://colab.research.google.com/github/sgandyang/HyperIsland/blob/main/HIProject02.ipynb\" target=\"_parent\"><img src=\"https://colab.research.google.com/assets/colab-badge.svg\" alt=\"Open In Colab\"/></a>"
      ]
    },
    {
      "cell_type": "code",
      "metadata": {
        "cellView": "form",
        "id": "Fm-hJgy1zrCK"
      },
      "source": [
        "#@title Enter the topics for the period\n",
        "item_list1 = \"printer\" #@param {type:\"string\"}\n",
        "item_list2 = \"christmas\" #@param {type:\"string\"}\n",
        "item_list3 = \"label\" #@param {type:\"string\"}\n",
        "#@markdown **Input NA if not available. Then select Runtime --> Run all (Ctrl + F9)** Note: Query 3 may fail if too much data is returned. Please restart and enter query in item 1 again\n"
      ],
      "execution_count": null,
      "outputs": []
    },
    {
      "cell_type": "code",
      "metadata": {
        "colab": {
          "base_uri": "https://localhost:8080/"
        },
        "id": "fLaKCXfTgdrL",
        "outputId": "d7e9536b-b083-4113-eed6-7349c8a26f33"
      },
      "source": [
        "pip install pytrends"
      ],
      "execution_count": null,
      "outputs": [
        {
          "output_type": "stream",
          "name": "stdout",
          "text": [
            "Collecting pytrends\n",
            "  Downloading pytrends-4.7.3-py3-none-any.whl (14 kB)\n",
            "Requirement already satisfied: pandas>=0.25 in /usr/local/lib/python3.7/dist-packages (from pytrends) (1.1.5)\n",
            "Requirement already satisfied: lxml in /usr/local/lib/python3.7/dist-packages (from pytrends) (4.2.6)\n",
            "Requirement already satisfied: requests in /usr/local/lib/python3.7/dist-packages (from pytrends) (2.23.0)\n",
            "Requirement already satisfied: python-dateutil>=2.7.3 in /usr/local/lib/python3.7/dist-packages (from pandas>=0.25->pytrends) (2.8.2)\n",
            "Requirement already satisfied: numpy>=1.15.4 in /usr/local/lib/python3.7/dist-packages (from pandas>=0.25->pytrends) (1.19.5)\n",
            "Requirement already satisfied: pytz>=2017.2 in /usr/local/lib/python3.7/dist-packages (from pandas>=0.25->pytrends) (2018.9)\n",
            "Requirement already satisfied: six>=1.5 in /usr/local/lib/python3.7/dist-packages (from python-dateutil>=2.7.3->pandas>=0.25->pytrends) (1.15.0)\n",
            "Requirement already satisfied: idna<3,>=2.5 in /usr/local/lib/python3.7/dist-packages (from requests->pytrends) (2.10)\n",
            "Requirement already satisfied: urllib3!=1.25.0,!=1.25.1,<1.26,>=1.21.1 in /usr/local/lib/python3.7/dist-packages (from requests->pytrends) (1.24.3)\n",
            "Requirement already satisfied: chardet<4,>=3.0.2 in /usr/local/lib/python3.7/dist-packages (from requests->pytrends) (3.0.4)\n",
            "Requirement already satisfied: certifi>=2017.4.17 in /usr/local/lib/python3.7/dist-packages (from requests->pytrends) (2021.5.30)\n",
            "Installing collected packages: pytrends\n",
            "Successfully installed pytrends-4.7.3\n"
          ]
        }
      ]
    },
    {
      "cell_type": "code",
      "metadata": {
        "id": "s3QRf5oxgvlK"
      },
      "source": [
        "import pandas as pd                        \n",
        "from pytrends.request import TrendReq\n",
        "pytrends = TrendReq(hl='en-US', tz=360)"
      ],
      "execution_count": null,
      "outputs": []
    },
    {
      "cell_type": "code",
      "metadata": {
        "id": "BHZ_Ya1EtoSd"
      },
      "source": [
        "kw_list = [item_list1]\n",
        "pytrends.build_payload(kw_list, cat=0, timeframe='today 3-m', geo='SG')"
      ],
      "execution_count": null,
      "outputs": []
    },
    {
      "cell_type": "code",
      "metadata": {
        "colab": {
          "base_uri": "https://localhost:8080/"
        },
        "id": "0YbkW4weuW8B",
        "outputId": "3a25c92a-076f-4317-ca30-faa8b908bede"
      },
      "source": [
        "pytrends.related_topics()"
      ],
      "execution_count": null,
      "outputs": [
        {
          "output_type": "execute_result",
          "data": {
            "text/plain": [
              "{'printer': {'rising':     value formattedValue  ...         topic_title                         topic_type\n",
              "  0   50900       Breakout  ...          Challenger                              Topic\n",
              "  1   33800       Breakout  ...         3D modeling                              Topic\n",
              "  2   33700       Breakout  ...       Harvey Norman                              Topic\n",
              "  3   33700       Breakout  ...   Internet Protocol                              Topic\n",
              "  4   16850       Breakout  ...    Courts Singapore                              Topic\n",
              "  5   16750       Breakout  ...          IP address  Application programming interface\n",
              "  6   16750       Breakout  ...       Harvey Norman                     Retail company\n",
              "  7     250          +250%  ...          User guide                              Topic\n",
              "  8     120          +120%  ...         3D printing                              Topic\n",
              "  9     120          +120%  ...             HP Envy                            Printer\n",
              "  10    120          +120%  ...        Installation                  Computer programs\n",
              "  11    120          +120%  ...    Wireless Printer                              Topic\n",
              "  12    120          +120%  ...  Zebra Technologies              Manufacturing company\n",
              "  13     90           +90%  ...       Image scanner                              Topic\n",
              "  14     60           +60%  ...            Spooling                              Topic\n",
              "  15     60           +60%  ...             Brother                              Topic\n",
              "  16     40           +40%  ...       Device driver                   Type of software\n",
              "  \n",
              "  [17 rows x 6 columns],\n",
              "  'top':     value formattedValue  ...              topic_title                 topic_type\n",
              "  0     100            100  ...                  Printer  Computer peripheral class\n",
              "  1      13             13  ...          Hewlett-Packard  Computer hardware company\n",
              "  2      11             11  ...          Hewlett-Packard                      Topic\n",
              "  3      11             11  ...       Brother Industries            Machine company\n",
              "  4      11             11  ...                  Brother                      Topic\n",
              "  5      10             10  ...                 Printing            Visual art form\n",
              "  6       9              9  ...                    Canon                Corporation\n",
              "  7       9              9  ...                    Canon                      Topic\n",
              "  8       9              9  ...              3D printing                      Topic\n",
              "  9       8              8  ...                      Ink                      Topic\n",
              "  10      8              8  ...  Three-dimensional space                      Topic\n",
              "  11      7              7  ...                    Laser                      Topic\n",
              "  12      7              7  ...            Device driver           Type of software\n",
              "  13      7              7  ...                  Brother                      Topic\n",
              "  14      7              7  ...           Laser printing                      Topic\n",
              "  15      6              6  ...                    Epson        Electronics company\n",
              "  16      6              6  ...            Label printer                      Topic\n",
              "  17      6              6  ...           Printer driver                      Topic\n",
              "  18      5              5  ...            Ink cartridge                      Topic\n",
              "  19      5              5  ...                    Label                      Topic\n",
              "  20      4              4  ...            Image scanner                      Topic\n",
              "  21      4              4  ...            Laser Printer                      Topic\n",
              "  22      3              3  ...            Photo printer  Computer peripheral class\n",
              "  23      3              3  ...          Inkjet printing  Computer peripheral class\n",
              "  \n",
              "  [24 rows x 7 columns]}}"
            ]
          },
          "metadata": {},
          "execution_count": 5
        }
      ]
    },
    {
      "cell_type": "code",
      "metadata": {
        "colab": {
          "base_uri": "https://localhost:8080/"
        },
        "id": "4x0Q96F0ua7w",
        "outputId": "69367946-8d29-49ed-dce4-432ebfaab07c"
      },
      "source": [
        "pytrends.related_queries()"
      ],
      "execution_count": null,
      "outputs": [
        {
          "output_type": "execute_result",
          "data": {
            "text/plain": [
              "{'printer': {'rising': None, 'top':                   query  value\n",
              "  0            hp printer    100\n",
              "  1       brother printer     89\n",
              "  2  printer shop near me      6}}"
            ]
          },
          "metadata": {},
          "execution_count": 6
        }
      ]
    },
    {
      "cell_type": "code",
      "metadata": {
        "id": "dvhS1mW_yuAC"
      },
      "source": [
        "kw_list = [item_list2]\n",
        "pytrends.build_payload(kw_list, cat=0, timeframe='today 3-m', geo='SG')"
      ],
      "execution_count": null,
      "outputs": []
    },
    {
      "cell_type": "code",
      "metadata": {
        "colab": {
          "base_uri": "https://localhost:8080/"
        },
        "id": "LrmSl_HCy5HS",
        "outputId": "e056f04e-fc33-471d-a78b-3f3ae3272e47"
      },
      "source": [
        "pytrends.related_topics()"
      ],
      "execution_count": null,
      "outputs": [
        {
          "output_type": "execute_result",
          "data": {
            "text/plain": [
              "{'christmas': {'rising':      value formattedValue  ...                    topic_title     topic_type\n",
              "  0   248100       Breakout  ...                           Idea          Topic\n",
              "  1    98650       Breakout  ...                    Marketplace          Topic\n",
              "  2    98200       Breakout  ...                         Dinner          Topic\n",
              "  3    49400       Breakout  ...               Christmas market          Topic\n",
              "  4    49250       Breakout  ...                   Christianity       Religion\n",
              "  5    49200       Breakout  ...                 Do it yourself          Topic\n",
              "  6    24650       Breakout  ...                 Last Christmas  Song by Wham!\n",
              "  7    24500       Breakout  ...                        Pajamas       Clothing\n",
              "  8    24500       Breakout  ...                           Snow          Topic\n",
              "  9    24450       Breakout  ...                         Wreath          Topic\n",
              "  10     350          +350%  ...           Christmas decoration          Topic\n",
              "  11     300          +300%  ...               Christmas Island      Territory\n",
              "  12     170          +170%  ...                 Christmas tree          Topic\n",
              "  13     130          +130%  ...  Merry Christmas, Mr. Lawrence      1983 film\n",
              "  14     120          +120%  ...                           Tree          Plant\n",
              "  15      80           +80%  ...                           Gift          Topic\n",
              "  16      80           +80%  ...               Christmas dinner          Topic\n",
              "  \n",
              "  [17 rows x 6 columns],\n",
              "  'top':     value formattedValue  ...                    topic_title     topic_type\n",
              "  0     100            100  ...                  Christmas Day      Festivity\n",
              "  1      16             16  ...                 Christmas tree          Topic\n",
              "  2      14             14  ...                           Tree          Plant\n",
              "  3       9              9  ...                           Idea          Topic\n",
              "  4       7              7  ...           Christmas decoration          Topic\n",
              "  5       6              6  ...               Christmas Island      Territory\n",
              "  6       5              5  ...                           Gift          Topic\n",
              "  7       5              5  ...                 Christmas gift          Topic\n",
              "  8       4              4  ...                            Day   Unit of time\n",
              "  9       4              4  ...                    Marketplace          Topic\n",
              "  10      4              4  ...  Merry Christmas, Mr. Lawrence      1983 film\n",
              "  11      4              4  ...                         Dinner          Topic\n",
              "  12      3              3  ...                Christmas music  Musical genre\n",
              "  13      3              3  ...               Christmas dinner          Topic\n",
              "  14      2              2  ...               Christmas market          Topic\n",
              "  15      2              2  ...               Christmas lights          Topic\n",
              "  16      2              2  ...                   Christianity       Religion\n",
              "  17      2              2  ...                 Do it yourself          Topic\n",
              "  18      2              2  ...                          Chord          Music\n",
              "  19      1              1  ...                 Last Christmas  Song by Wham!\n",
              "  20      1              1  ...                        Pajamas       Clothing\n",
              "  21      1              1  ...                           Snow          Topic\n",
              "  22      1              1  ...                         Wreath          Topic\n",
              "  \n",
              "  [23 rows x 7 columns]}}"
            ]
          },
          "metadata": {},
          "execution_count": 8
        }
      ]
    },
    {
      "cell_type": "code",
      "metadata": {
        "colab": {
          "base_uri": "https://localhost:8080/"
        },
        "id": "sMwghnSqy6_N",
        "outputId": "63c863bf-e444-4805-be71-14f4a07d8c33"
      },
      "source": [
        "pytrends.related_queries()"
      ],
      "execution_count": null,
      "outputs": [
        {
          "output_type": "execute_result",
          "data": {
            "text/plain": [
              "{'christmas': {'rising':               query  value\n",
              "  0  christmas island    100, 'top':               query  value\n",
              "  0  christmas island    100\n",
              "  1    christmas tree     82}}"
            ]
          },
          "metadata": {},
          "execution_count": 9
        }
      ]
    },
    {
      "cell_type": "code",
      "metadata": {
        "id": "N4vxwpJnzQTO"
      },
      "source": [
        "kw_list = [item_list3]\n",
        "pytrends.build_payload(kw_list, cat=0, timeframe='today 3-m', geo='SG')"
      ],
      "execution_count": null,
      "outputs": []
    },
    {
      "cell_type": "code",
      "metadata": {
        "colab": {
          "base_uri": "https://localhost:8080/"
        },
        "id": "2Qn9HNblzVP5",
        "outputId": "eda1d49a-69b9-40ca-b5bf-a751d85f26da"
      },
      "source": [
        "pytrends.related_topics()"
      ],
      "execution_count": null,
      "outputs": [
        {
          "output_type": "execute_result",
          "data": {
            "text/plain": [
              "{'label': {'rising':    value formattedValue  ...            topic_title       topic_type\n",
              "  0  70700       Breakout  ...                    Tag         Metadata\n",
              "  1  46700       Breakout  ...                ggplot2            Topic\n",
              "  2  23400       Breakout  ...               Name tag            Topic\n",
              "  3    350          +350%  ...           Record label            Topic\n",
              "  4    130          +130%  ...               Burberry  Fashion company\n",
              "  5    130          +130%  ...    White-label product            Topic\n",
              "  6    130          +130%  ...  Nutrition facts label            Topic\n",
              "  7     50           +50%  ...         Johnnie Walker            Topic\n",
              "  8     40           +40%  ...               Printing  Visual art form\n",
              "  \n",
              "  [9 rows x 6 columns], 'top':     value  ...                     topic_type\n",
              "  0     100  ...                          Topic\n",
              "  1      19  ...                          Topic\n",
              "  2      17  ...      Computer peripheral class\n",
              "  3      15  ...                          Topic\n",
              "  4      14  ...  Pizza restaurant in Singapore\n",
              "  5       8  ...                Visual art form\n",
              "  6       6  ...                          Topic\n",
              "  7       6  ...                          Topic\n",
              "  8       5  ...                       Metadata\n",
              "  9       5  ...                          Topic\n",
              "  10      3  ...                Fashion company\n",
              "  11      3  ...    Clothing store in Singapore\n",
              "  12      3  ...                          Topic\n",
              "  13      3  ...                          Topic\n",
              "  14      3  ...                          Topic\n",
              "  15      2  ...                          Topic\n",
              "  16      2  ...            Electronics company\n",
              "  17      2  ...                         Winery\n",
              "  18      2  ...                Literary theory\n",
              "  \n",
              "  [19 rows x 7 columns]}}"
            ]
          },
          "metadata": {},
          "execution_count": 11
        }
      ]
    },
    {
      "cell_type": "code",
      "metadata": {
        "colab": {
          "base_uri": "https://localhost:8080/"
        },
        "id": "1e-a8ZsdzWuc",
        "outputId": "c3733368-d0aa-4eea-c065-d8dfe5a77855"
      },
      "source": [
        "pytrends.related_queries()"
      ],
      "execution_count": null,
      "outputs": [
        {
          "output_type": "execute_result",
          "data": {
            "text/plain": [
              "{'label': {'rising': None, 'top':               query  value\n",
              "  0        blue label    100\n",
              "  1  blue label pizza     55\n",
              "  2       white label     50\n",
              "  3         mgp label     20\n",
              "  4      willow label     20\n",
              "  5   the white label     15\n",
              "  6  the willow label     10}}"
            ]
          },
          "metadata": {},
          "execution_count": 12
        }
      ]
    },
    {
      "cell_type": "code",
      "metadata": {
        "colab": {
          "base_uri": "https://localhost:8080/",
          "height": 670
        },
        "id": "buM2g1s5uf2i",
        "outputId": "7f1be50e-4900-46c9-d2d8-f443a30c58b7"
      },
      "source": [
        "pytrends.trending_searches(pn='singapore')\n"
      ],
      "execution_count": null,
      "outputs": [
        {
          "output_type": "execute_result",
          "data": {
            "text/html": [
              "<div>\n",
              "<style scoped>\n",
              "    .dataframe tbody tr th:only-of-type {\n",
              "        vertical-align: middle;\n",
              "    }\n",
              "\n",
              "    .dataframe tbody tr th {\n",
              "        vertical-align: top;\n",
              "    }\n",
              "\n",
              "    .dataframe thead th {\n",
              "        text-align: right;\n",
              "    }\n",
              "</style>\n",
              "<table border=\"1\" class=\"dataframe\">\n",
              "  <thead>\n",
              "    <tr style=\"text-align: right;\">\n",
              "      <th></th>\n",
              "      <th>0</th>\n",
              "    </tr>\n",
              "  </thead>\n",
              "  <tbody>\n",
              "    <tr>\n",
              "      <th>0</th>\n",
              "      <td>Brighton vs Man City</td>\n",
              "    </tr>\n",
              "    <tr>\n",
              "      <th>1</th>\n",
              "      <td>Mamat Khalid</td>\n",
              "    </tr>\n",
              "    <tr>\n",
              "      <th>2</th>\n",
              "      <td>Singapore travel restrictions</td>\n",
              "    </tr>\n",
              "    <tr>\n",
              "      <th>3</th>\n",
              "      <td>Karwa Chauth 2021</td>\n",
              "    </tr>\n",
              "    <tr>\n",
              "      <th>4</th>\n",
              "      <td>Chelsea vs Norwich City</td>\n",
              "    </tr>\n",
              "    <tr>\n",
              "      <th>5</th>\n",
              "      <td>Meadow Walker</td>\n",
              "    </tr>\n",
              "    <tr>\n",
              "      <th>6</th>\n",
              "      <td>Arsenal vs Aston Villa</td>\n",
              "    </tr>\n",
              "    <tr>\n",
              "      <th>7</th>\n",
              "      <td>West Indies vs England</td>\n",
              "    </tr>\n",
              "    <tr>\n",
              "      <th>8</th>\n",
              "      <td>F1</td>\n",
              "    </tr>\n",
              "    <tr>\n",
              "      <th>9</th>\n",
              "      <td>EPL results</td>\n",
              "    </tr>\n",
              "    <tr>\n",
              "      <th>10</th>\n",
              "      <td>Lakers</td>\n",
              "    </tr>\n",
              "    <tr>\n",
              "      <th>11</th>\n",
              "      <td>Everton vs Watford</td>\n",
              "    </tr>\n",
              "    <tr>\n",
              "      <th>12</th>\n",
              "      <td>Crystal Palace vs Newcastle</td>\n",
              "    </tr>\n",
              "    <tr>\n",
              "      <th>13</th>\n",
              "      <td>India vs Pakistan</td>\n",
              "    </tr>\n",
              "    <tr>\n",
              "      <th>14</th>\n",
              "      <td>Bayern Munich</td>\n",
              "    </tr>\n",
              "    <tr>\n",
              "      <th>15</th>\n",
              "      <td>Man United vs Liverpool</td>\n",
              "    </tr>\n",
              "    <tr>\n",
              "      <th>16</th>\n",
              "      <td>IND) vs Pak</td>\n",
              "    </tr>\n",
              "    <tr>\n",
              "      <th>17</th>\n",
              "      <td>Alec Baldwin</td>\n",
              "    </tr>\n",
              "    <tr>\n",
              "      <th>18</th>\n",
              "      <td>Planet 999</td>\n",
              "    </tr>\n",
              "    <tr>\n",
              "      <th>19</th>\n",
              "      <td>Warriors vs Clippers</td>\n",
              "    </tr>\n",
              "  </tbody>\n",
              "</table>\n",
              "</div>"
            ],
            "text/plain": [
              "                                0\n",
              "0            Brighton vs Man City\n",
              "1                    Mamat Khalid\n",
              "2   Singapore travel restrictions\n",
              "3               Karwa Chauth 2021\n",
              "4         Chelsea vs Norwich City\n",
              "5                   Meadow Walker\n",
              "6          Arsenal vs Aston Villa\n",
              "7          West Indies vs England\n",
              "8                              F1\n",
              "9                     EPL results\n",
              "10                         Lakers\n",
              "11             Everton vs Watford\n",
              "12    Crystal Palace vs Newcastle\n",
              "13              India vs Pakistan\n",
              "14                  Bayern Munich\n",
              "15        Man United vs Liverpool\n",
              "16                    IND) vs Pak\n",
              "17                   Alec Baldwin\n",
              "18                     Planet 999\n",
              "19           Warriors vs Clippers"
            ]
          },
          "metadata": {},
          "execution_count": 13
        }
      ]
    },
    {
      "cell_type": "code",
      "metadata": {
        "colab": {
          "base_uri": "https://localhost:8080/",
          "height": 670
        },
        "id": "cKMCGj76wjVr",
        "outputId": "41f067a1-e2c7-447a-ea78-9cf35e49c1c2"
      },
      "source": [
        "pytrends.trending_searches(pn='malaysia')"
      ],
      "execution_count": null,
      "outputs": [
        {
          "output_type": "execute_result",
          "data": {
            "text/html": [
              "<div>\n",
              "<style scoped>\n",
              "    .dataframe tbody tr th:only-of-type {\n",
              "        vertical-align: middle;\n",
              "    }\n",
              "\n",
              "    .dataframe tbody tr th {\n",
              "        vertical-align: top;\n",
              "    }\n",
              "\n",
              "    .dataframe thead th {\n",
              "        text-align: right;\n",
              "    }\n",
              "</style>\n",
              "<table border=\"1\" class=\"dataframe\">\n",
              "  <thead>\n",
              "    <tr style=\"text-align: right;\">\n",
              "      <th></th>\n",
              "      <th>0</th>\n",
              "    </tr>\n",
              "  </thead>\n",
              "  <tbody>\n",
              "    <tr>\n",
              "      <th>0</th>\n",
              "      <td>Mamat Khalid</td>\n",
              "    </tr>\n",
              "    <tr>\n",
              "      <th>1</th>\n",
              "      <td>Brighton vs Man City</td>\n",
              "    </tr>\n",
              "    <tr>\n",
              "      <th>2</th>\n",
              "      <td>Bologna vs Milan</td>\n",
              "    </tr>\n",
              "    <tr>\n",
              "      <th>3</th>\n",
              "      <td>Sri Lanka vs Bangladesh</td>\n",
              "    </tr>\n",
              "    <tr>\n",
              "      <th>4</th>\n",
              "      <td>Chelsea vs Norwich City</td>\n",
              "    </tr>\n",
              "    <tr>\n",
              "      <th>5</th>\n",
              "      <td>Paul Walker</td>\n",
              "    </tr>\n",
              "    <tr>\n",
              "      <th>6</th>\n",
              "      <td>Arsenal vs Aston Villa</td>\n",
              "    </tr>\n",
              "    <tr>\n",
              "      <th>7</th>\n",
              "      <td>West Indies vs England</td>\n",
              "    </tr>\n",
              "    <tr>\n",
              "      <th>8</th>\n",
              "      <td>South Africa vs Australia</td>\n",
              "    </tr>\n",
              "    <tr>\n",
              "      <th>9</th>\n",
              "      <td>Everton vs Watford</td>\n",
              "    </tr>\n",
              "    <tr>\n",
              "      <th>10</th>\n",
              "      <td>F1</td>\n",
              "    </tr>\n",
              "    <tr>\n",
              "      <th>11</th>\n",
              "      <td>Barcelona</td>\n",
              "    </tr>\n",
              "    <tr>\n",
              "      <th>12</th>\n",
              "      <td>Bayern vs Hoffenheim</td>\n",
              "    </tr>\n",
              "    <tr>\n",
              "      <th>13</th>\n",
              "      <td>Lakers vs Suns</td>\n",
              "    </tr>\n",
              "    <tr>\n",
              "      <th>14</th>\n",
              "      <td>Crystal Palace vs Newcastle</td>\n",
              "    </tr>\n",
              "    <tr>\n",
              "      <th>15</th>\n",
              "      <td>EPL results</td>\n",
              "    </tr>\n",
              "    <tr>\n",
              "      <th>16</th>\n",
              "      <td>India vs Pakistan</td>\n",
              "    </tr>\n",
              "    <tr>\n",
              "      <th>17</th>\n",
              "      <td>Jirisan</td>\n",
              "    </tr>\n",
              "    <tr>\n",
              "      <th>18</th>\n",
              "      <td>Nur Izzuddin</td>\n",
              "    </tr>\n",
              "    <tr>\n",
              "      <th>19</th>\n",
              "      <td>Leeds United vs Wolves</td>\n",
              "    </tr>\n",
              "  </tbody>\n",
              "</table>\n",
              "</div>"
            ],
            "text/plain": [
              "                              0\n",
              "0                  Mamat Khalid\n",
              "1          Brighton vs Man City\n",
              "2              Bologna vs Milan\n",
              "3       Sri Lanka vs Bangladesh\n",
              "4       Chelsea vs Norwich City\n",
              "5                   Paul Walker\n",
              "6        Arsenal vs Aston Villa\n",
              "7        West Indies vs England\n",
              "8     South Africa vs Australia\n",
              "9            Everton vs Watford\n",
              "10                           F1\n",
              "11                    Barcelona\n",
              "12         Bayern vs Hoffenheim\n",
              "13               Lakers vs Suns\n",
              "14  Crystal Palace vs Newcastle\n",
              "15                  EPL results\n",
              "16            India vs Pakistan\n",
              "17                      Jirisan\n",
              "18                 Nur Izzuddin\n",
              "19       Leeds United vs Wolves"
            ]
          },
          "metadata": {},
          "execution_count": 14
        }
      ]
    }
  ]
}